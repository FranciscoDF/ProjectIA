{
 "cells": [
  {
   "cell_type": "code",
   "execution_count": null,
   "metadata": {},
   "outputs": [],
   "source": [
    "import pandas as pd\n",
    "#modif test\n",
    "#Read csv\n",
    "general_data = pd.read_csv('Donnees/general_data.csv')\n",
    "employee_survey_data = pd.read_csv('Donnees/employee_survey_data.csv')\n",
    "manager_survey_data = pd.read_csv('Donnees/manager_survey_data.csv')\n",
    "in_time = pd.read_csv('Donnees/in_time.csv')\n",
    "out_time = pd.read_csv('Donnees/out_time.csv')\n",
    "\n",
    "#Join general + employee + manager\n",
    "general_employee = pd.merge(employee_survey_data, general_data, on='EmployeeID', how='inner')\n",
    "general_employee_manager = pd.merge(general_employee, manager_survey_data, on='EmployeeID', how='inner')"
   ]
  },
  {
   "cell_type": "code",
   "execution_count": null,
   "metadata": {},
   "outputs": [],
   "source": [
    "general_employee_manager.head()"
   ]
  },
  {
   "cell_type": "code",
   "execution_count": null,
   "metadata": {},
   "outputs": [],
   "source": [
    "from sklearn.compose import ColumnTransformer\n",
    "from sklearn.pipeline import Pipeline\n",
    "from sklearn.preprocessing import StandardScaler\n",
    "from sklearn.impute import SimpleImputer\n",
    "from sklearn.preprocessing import OneHotEncoder\n",
    "\n",
    "#Une pipeline mais pas sûr qu'elle soit bien\n",
    "def pipe(dataframe, array):\n",
    "\n",
    "    num_pipeline = Pipeline([\n",
    "            ('imputer', SimpleImputer(strategy=\"median\")),\n",
    "            ('std_scaler', StandardScaler()),\n",
    "        ])\n",
    "\n",
    "    num_attribs = list(dataframe.select_dtypes(include=[np.number]) )\n",
    "    cat_attribs = array\n",
    "\n",
    "    full_pipeline = ColumnTransformer([\n",
    "            (\"num\", num_pipeline, num_attribs),\n",
    "            (\"cat\", OneHotEncoder(), cat_attribs),\n",
    "        ])\n",
    "    \n",
    "    return full_pipeline.fit_transform(dataframe)\n",
    "\n",
    "#Exemple : general_employee_manager_prepared = pipe(general_employee_manager, [\"Department\",\"BusinessTravel\",\"Attrition\",\"EducationField\",\"Gender\",\"Over18\"])"
   ]
  }
 ],
 "metadata": {
  "kernelspec": {
   "display_name": "Python 3",
   "language": "python",
   "name": "python3"
  },
  "language_info": {
   "codemirror_mode": {
    "name": "ipython",
    "version": 3
   },
   "file_extension": ".py",
   "mimetype": "text/x-python",
   "name": "python",
   "nbconvert_exporter": "python",
   "pygments_lexer": "ipython3",
   "version": "3.11.2"
  },
  "orig_nbformat": 4
 },
 "nbformat": 4,
 "nbformat_minor": 2
}
